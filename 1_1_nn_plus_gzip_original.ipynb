{
 "cells": [
  {
   "cell_type": "markdown",
   "id": "965aa954-7744-4ecb-8b38-a023f3c1b9af",
   "metadata": {},
   "source": [
    "# NN + Gzip on IMDB Movie Review Dataset"
   ]
  },
  {
   "cell_type": "markdown",
   "id": "275f3c53-b5c7-4856-9a15-656a98b33fd8",
   "metadata": {},
   "source": [
    "# NN + Gzip on IMDB Movie Review Dataset\n",
    "\n",
    "Reimplementation of the pseudocode in the *\"Low-Resource\" Text Classification: A Parameter-Free Classification Method with Compressors* paper ([https://aclanthology.org/2023.findings-acl.426/](https://aclanthology.org/2023.findings-acl.426/)) \n",
    "\n",
    "\n",
    "<img src=\"figures/pseudocode.png\" width=\"500\">"
   ]
  },
  {
   "cell_type": "code",
   "execution_count": 1,
   "id": "54b93603-f41c-4016-87aa-59998990075c",
   "metadata": {},
   "outputs": [],
   "source": [
    "import gzip\n",
    "import os.path as op\n",
    "\n",
    "import numpy as np\n",
    "import pandas as pd\n",
    "\n",
    "from local_dataset_utilities import download_dataset, load_dataset_into_to_dataframe, partition_dataset"
   ]
  },
  {
   "cell_type": "code",
   "execution_count": 2,
   "id": "a03e71dc-e09e-4907-bc06-f8250b97005e",
   "metadata": {},
   "outputs": [],
   "source": [
    "if not op.isfile(\"train.csv\") and not op.isfile(\"val.csv\") and not op.isfile(\"test.csv\"):\n",
    "    download_dataset()\n",
    "\n",
    "    df = load_dataset_into_to_dataframe()\n",
    "    partition_dataset(df)"
   ]
  },
  {
   "cell_type": "code",
   "execution_count": 3,
   "id": "bfff472d-57c1-4310-8a1b-9a3e4339646a",
   "metadata": {},
   "outputs": [],
   "source": [
    "df_train = pd.read_csv(\"train.csv\")\n",
    "df_val = pd.read_csv(\"val.csv\")\n",
    "df_test = pd.read_csv(\"test.csv\")"
   ]
  },
  {
   "cell_type": "code",
   "execution_count": 4,
   "id": "29fbe3bd-c873-4372-9c79-ea38b751608c",
   "metadata": {},
   "outputs": [
    {
     "name": "stderr",
     "output_type": "stream",
     "text": [
      "100%|██████████████████████████████████| 10000/10000 [21:16:23<00:00,  7.66s/it]\n"
     ]
    }
   ],
   "source": [
    "from tqdm import tqdm\n",
    "\n",
    "k = 2\n",
    "\n",
    "predicted_classes = []\n",
    "\n",
    "for row_test in tqdm(df_test.iterrows(), total=df_test.shape[0]):\n",
    "    test_text = row_test[1][\"text\"]\n",
    "    test_label = row_test[1][\"label\"]\n",
    "    c_test_text = len(gzip.compress(test_text.encode()))\n",
    "    distance_from_test_instance = []\n",
    "    \n",
    "    for row_train in df_train.iterrows():\n",
    "        train_text = row_train[1][\"text\"]\n",
    "        train_label = row_train[1][\"label\"]\n",
    "        c_train_text = len(gzip.compress(train_text.encode()))\n",
    "        \n",
    "        train_plus_test = \" \".join([test_text, train_text])\n",
    "        c_train_plus_test = len(gzip.compress(train_plus_test.encode()))\n",
    "        \n",
    "        ncd = ( (c_train_plus_test - min(c_train_text, c_test_text))\n",
    "                / max(c_test_text, c_train_text) )\n",
    "        distance_from_test_instance.append(ncd)\n",
    "        \n",
    "    sorted_idx = np.argsort(np.array(distance_from_test_instance))\n",
    "    \n",
    "    #top_k_class = list(df_train.iloc[sorted_idx[:k]][\"label\"].values)\n",
    "    #predicted_class = max(set(top_k_class), key=top_k_class.count)\n",
    "    top_k_class = df_train.iloc[sorted_idx[:k]][\"label\"].values\n",
    "    predicted_class = np.argmax(np.bincount(top_k_class))\n",
    "    \n",
    "    predicted_classes.append(predicted_class)\n",
    "        "
   ]
  },
  {
   "cell_type": "code",
   "execution_count": 5,
   "id": "1f44b0d2-8303-409c-b40f-7910ab415da1",
   "metadata": {},
   "outputs": [
    {
     "name": "stdout",
     "output_type": "stream",
     "text": [
      "Accuracy: 0.7005\n"
     ]
    }
   ],
   "source": [
    "print(\"Accuracy:\", np.mean(np.array(predicted_classes) == df_test[\"label\"].values))"
   ]
  }
 ],
 "metadata": {
  "kernelspec": {
   "display_name": "Python 3 (ipykernel)",
   "language": "python",
   "name": "python3"
  },
  "language_info": {
   "codemirror_mode": {
    "name": "ipython",
    "version": 3
   },
   "file_extension": ".py",
   "mimetype": "text/x-python",
   "name": "python",
   "nbconvert_exporter": "python",
   "pygments_lexer": "ipython3",
   "version": "3.10.6"
  }
 },
 "nbformat": 4,
 "nbformat_minor": 5
}
