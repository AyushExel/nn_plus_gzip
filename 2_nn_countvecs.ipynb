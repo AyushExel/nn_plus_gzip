{
 "cells": [
  {
   "cell_type": "markdown",
   "id": "fb879955-ad5e-4c0d-a342-8772d119598e",
   "metadata": {},
   "source": [
    "# NN + Cosine Distance on IMDB Movie Review Dataset"
   ]
  },
  {
   "cell_type": "code",
   "execution_count": 1,
   "id": "836be7ab-cdc0-4376-ab23-27d54f486f39",
   "metadata": {},
   "outputs": [],
   "source": [
    "import gzip\n",
    "import os.path as op\n",
    "\n",
    "import numpy as np\n",
    "import pandas as pd\n",
    "\n",
    "from local_dataset_utilities import download_dataset, load_dataset_into_to_dataframe, partition_dataset"
   ]
  },
  {
   "cell_type": "code",
   "execution_count": 2,
   "id": "e23aba95-b18a-411d-9ad2-152c06071575",
   "metadata": {},
   "outputs": [],
   "source": [
    "if not op.isfile(\"train.csv\") and op.isfile(\"val.csv\") and op.isfile(\"test.csv\"):\n",
    "    download_dataset()\n",
    "\n",
    "    df = load_dataset_into_to_dataframe()\n",
    "    partition_dataset(df)"
   ]
  },
  {
   "cell_type": "code",
   "execution_count": 3,
   "id": "9e01dd62-601f-4eb5-8a64-ed8fc39cd719",
   "metadata": {},
   "outputs": [],
   "source": [
    "df_train = pd.read_csv(\"train.csv\")\n",
    "df_val = pd.read_csv(\"val.csv\")\n",
    "df_test = pd.read_csv(\"test.csv\")"
   ]
  },
  {
   "cell_type": "code",
   "execution_count": 4,
   "id": "14c67c25-6275-4ec0-9596-73a014adfc8f",
   "metadata": {},
   "outputs": [],
   "source": [
    "from sklearn.feature_extraction.text import CountVectorizer\n",
    "\n",
    "\n",
    "cv = CountVectorizer(lowercase=True, max_features=10_000, stop_words=\"english\")\n",
    "\n",
    "cv.fit(df_train[\"text\"])\n",
    "\n",
    "X_train = cv.transform(df_train[\"text\"])\n",
    "X_val = cv.transform(df_val[\"text\"])\n",
    "X_test = cv.transform(df_test[\"text\"])"
   ]
  },
  {
   "cell_type": "code",
   "execution_count": 37,
   "id": "e22430d5-96e5-49ff-8aeb-1b7c5be57e26",
   "metadata": {},
   "outputs": [
    {
     "name": "stderr",
     "output_type": "stream",
     "text": [
      "100%|██████████████████████████████████| 10000/10000 [19:01:07<00:00,  6.85s/it]"
     ]
    },
    {
     "name": "stdout",
     "output_type": "stream",
     "text": [
      "Accuracy: 0.651\n"
     ]
    },
    {
     "name": "stderr",
     "output_type": "stream",
     "text": [
      "\n"
     ]
    }
   ],
   "source": [
    "from tqdm import tqdm\n",
    "from numpy.linalg import norm\n",
    "\n",
    "k = 2\n",
    "\n",
    "predicted_classes = []\n",
    "\n",
    "for i in tqdm(range(df_test.shape[0]), total=df_test.shape[0]):\n",
    "\n",
    "    test_vec = X_test[i].toarray().reshape(-1)\n",
    "    test_label = df_test.iloc[i][\"label\"]\n",
    "    distance_from_test_instance = []\n",
    "    \n",
    "    for j in range(df_train.shape[0]):\n",
    "        train_vec = X_train[j].toarray().reshape(-1)\n",
    "        train_label = df_train.iloc[j][\"label\"]\n",
    "        \n",
    "        cosine = 1 - np.dot(test_vec, train_vec)/(norm(test_vec)*norm(train_vec))\n",
    "        distance_from_test_instance.append(cosine)\n",
    "        \n",
    "    sorted_idx = np.argsort(np.array(distance_from_test_instance))\n",
    "    \n",
    "    top_k_class = df_train.iloc[sorted_idx[:k]][\"label\"].values\n",
    "    predicted_class = np.argmax(np.bincount(top_k_class))\n",
    "    \n",
    "    predicted_classes.append(predicted_class)\n",
    "        \n",
    "print(\"Accuracy:\", np.mean(np.array(predicted_classes) == df_test[\"label\"].values))"
   ]
  },
  {
   "cell_type": "code",
   "execution_count": null,
   "id": "5b47a77a-57f2-4956-ae88-129f341e68cf",
   "metadata": {},
   "outputs": [],
   "source": []
  }
 ],
 "metadata": {
  "kernelspec": {
   "display_name": "Python 3 (ipykernel)",
   "language": "python",
   "name": "python3"
  },
  "language_info": {
   "codemirror_mode": {
    "name": "ipython",
    "version": 3
   },
   "file_extension": ".py",
   "mimetype": "text/x-python",
   "name": "python",
   "nbconvert_exporter": "python",
   "pygments_lexer": "ipython3",
   "version": "3.10.6"
  }
 },
 "nbformat": 4,
 "nbformat_minor": 5
}
