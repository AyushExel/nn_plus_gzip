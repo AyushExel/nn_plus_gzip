{
 "cells": [
  {
   "cell_type": "code",
   "execution_count": 10,
   "id": "b3cf065e-0871-46dc-917a-637ac6590b31",
   "metadata": {},
   "outputs": [],
   "source": [
    "import gzip\n",
    "\n",
    "txt_1 = \"hello world\"\n",
    "txt_2 = \"some text some text some text\""
   ]
  },
  {
   "cell_type": "code",
   "execution_count": 11,
   "id": "0ddb828f-2480-491d-ae66-c1a2dc902523",
   "metadata": {},
   "outputs": [
    {
     "data": {
      "text/plain": [
       "31"
      ]
     },
     "execution_count": 11,
     "metadata": {},
     "output_type": "execute_result"
    }
   ],
   "source": [
    "len(gzip.compress(txt_1.encode()))"
   ]
  },
  {
   "cell_type": "code",
   "execution_count": 12,
   "id": "fac22ce9-a243-433a-81ed-0bad131ec7ae",
   "metadata": {},
   "outputs": [
    {
     "data": {
      "text/plain": [
       "33"
      ]
     },
     "execution_count": 12,
     "metadata": {},
     "output_type": "execute_result"
    }
   ],
   "source": [
    "len(gzip.compress(txt_2.encode()))"
   ]
  },
  {
   "cell_type": "code",
   "execution_count": 13,
   "id": "c99131b6-9ef1-45de-af26-c47f525956d9",
   "metadata": {},
   "outputs": [
    {
     "data": {
      "text/plain": [
       "43"
      ]
     },
     "execution_count": 13,
     "metadata": {},
     "output_type": "execute_result"
    }
   ],
   "source": [
    "len(gzip.compress(\" \".join([txt_1, txt_2]).encode()))"
   ]
  },
  {
   "cell_type": "code",
   "execution_count": 14,
   "id": "771a37e0-67fe-4274-962f-5a99911c451a",
   "metadata": {},
   "outputs": [
    {
     "data": {
      "text/plain": [
       "34"
      ]
     },
     "execution_count": 14,
     "metadata": {},
     "output_type": "execute_result"
    }
   ],
   "source": [
    "len(gzip.compress(\" \".join([txt_1, txt_1]).encode()))"
   ]
  },
  {
   "cell_type": "code",
   "execution_count": 15,
   "id": "36303cb5-147c-41b0-9758-fb16753774ff",
   "metadata": {},
   "outputs": [
    {
     "data": {
      "text/plain": [
       "33"
      ]
     },
     "execution_count": 15,
     "metadata": {},
     "output_type": "execute_result"
    }
   ],
   "source": [
    "len(gzip.compress(\" \".join([txt_2, txt_2]).encode()))"
   ]
  },
  {
   "cell_type": "code",
   "execution_count": null,
   "id": "20c16c82-cd0a-4d53-ad06-4aa48efdff41",
   "metadata": {},
   "outputs": [],
   "source": []
  }
 ],
 "metadata": {
  "kernelspec": {
   "display_name": "Python 3 (ipykernel)",
   "language": "python",
   "name": "python3"
  },
  "language_info": {
   "codemirror_mode": {
    "name": "ipython",
    "version": 3
   },
   "file_extension": ".py",
   "mimetype": "text/x-python",
   "name": "python",
   "nbconvert_exporter": "python",
   "pygments_lexer": "ipython3",
   "version": "3.10.6"
  }
 },
 "nbformat": 4,
 "nbformat_minor": 5
}
