{
 "cells": [
  {
   "cell_type": "markdown",
   "id": "33075d8c-6c74-46bd-a19e-89f75262ff72",
   "metadata": {},
   "source": [
    "# Compression"
   ]
  },
  {
   "cell_type": "code",
   "execution_count": 1,
   "id": "b3cf065e-0871-46dc-917a-637ac6590b31",
   "metadata": {},
   "outputs": [],
   "source": [
    "import gzip\n",
    "\n",
    "txt_1 = \"hello world\"\n",
    "txt_2 = \"some text some text some text\""
   ]
  },
  {
   "cell_type": "code",
   "execution_count": 2,
   "id": "0ddb828f-2480-491d-ae66-c1a2dc902523",
   "metadata": {},
   "outputs": [
    {
     "data": {
      "text/plain": [
       "31"
      ]
     },
     "execution_count": 2,
     "metadata": {},
     "output_type": "execute_result"
    }
   ],
   "source": [
    "len(gzip.compress(txt_1.encode()))"
   ]
  },
  {
   "cell_type": "code",
   "execution_count": 3,
   "id": "fac22ce9-a243-433a-81ed-0bad131ec7ae",
   "metadata": {},
   "outputs": [
    {
     "data": {
      "text/plain": [
       "33"
      ]
     },
     "execution_count": 3,
     "metadata": {},
     "output_type": "execute_result"
    }
   ],
   "source": [
    "len(gzip.compress(txt_2.encode()))"
   ]
  },
  {
   "cell_type": "code",
   "execution_count": 4,
   "id": "c99131b6-9ef1-45de-af26-c47f525956d9",
   "metadata": {},
   "outputs": [
    {
     "data": {
      "text/plain": [
       "43"
      ]
     },
     "execution_count": 4,
     "metadata": {},
     "output_type": "execute_result"
    }
   ],
   "source": [
    "len(gzip.compress(\" \".join([txt_1, txt_2]).encode()))"
   ]
  },
  {
   "cell_type": "code",
   "execution_count": 5,
   "id": "771a37e0-67fe-4274-962f-5a99911c451a",
   "metadata": {},
   "outputs": [
    {
     "data": {
      "text/plain": [
       "34"
      ]
     },
     "execution_count": 5,
     "metadata": {},
     "output_type": "execute_result"
    }
   ],
   "source": [
    "len(gzip.compress(\" \".join([txt_1, txt_1]).encode()))"
   ]
  },
  {
   "cell_type": "code",
   "execution_count": 6,
   "id": "36303cb5-147c-41b0-9758-fb16753774ff",
   "metadata": {},
   "outputs": [
    {
     "data": {
      "text/plain": [
       "33"
      ]
     },
     "execution_count": 6,
     "metadata": {},
     "output_type": "execute_result"
    }
   ],
   "source": [
    "len(gzip.compress(\" \".join([txt_2, txt_2]).encode()))"
   ]
  },
  {
   "cell_type": "markdown",
   "id": "b9327048-17ef-4401-b3fd-f462f1e57888",
   "metadata": {},
   "source": [
    "# Tie breaking"
   ]
  },
  {
   "cell_type": "markdown",
   "id": "71b93107-32b8-4b14-b7b1-d98d6049f154",
   "metadata": {},
   "source": [
    "Original code always selects index with lowest label in case of a tie"
   ]
  },
  {
   "cell_type": "code",
   "execution_count": 7,
   "id": "97b3e05d-27da-4c77-b2d1-e97f28b11d15",
   "metadata": {},
   "outputs": [
    {
     "data": {
      "text/plain": [
       "0"
      ]
     },
     "execution_count": 7,
     "metadata": {},
     "output_type": "execute_result"
    }
   ],
   "source": [
    "top_k_class = [0, 1]\n",
    "max(set(top_k_class), key=top_k_class.count)"
   ]
  },
  {
   "cell_type": "code",
   "execution_count": 8,
   "id": "bbeba7c4-492e-438d-960d-f887fd4ac455",
   "metadata": {},
   "outputs": [
    {
     "data": {
      "text/plain": [
       "0"
      ]
     },
     "execution_count": 8,
     "metadata": {},
     "output_type": "execute_result"
    }
   ],
   "source": [
    "top_k_class = [1, 0]\n",
    "max(set(top_k_class), key=top_k_class.count)"
   ]
  },
  {
   "cell_type": "code",
   "execution_count": 9,
   "id": "c8acd613-1f2a-4759-955b-800513024d1d",
   "metadata": {},
   "outputs": [
    {
     "data": {
      "text/plain": [
       "0"
      ]
     },
     "execution_count": 9,
     "metadata": {},
     "output_type": "execute_result"
    }
   ],
   "source": [
    "top_k_class = [1, 0, 2]\n",
    "max(set(top_k_class), key=top_k_class.count)"
   ]
  },
  {
   "cell_type": "markdown",
   "id": "5a9f3761-e957-4f5e-acc9-aa13df736cf2",
   "metadata": {},
   "source": [
    "We can prevent this using Counter, which selects the first label in case of a tie. If labels are sorted by distance, we can ensure it's picking the closest neighbor in case of a tie, which is a more reasonable choice than always selecting the lowest-index class:"
   ]
  },
  {
   "cell_type": "code",
   "execution_count": 10,
   "id": "1bcc6ca8-1acb-48fa-9526-f470ea7da06f",
   "metadata": {},
   "outputs": [],
   "source": [
    "from collections import Counter"
   ]
  },
  {
   "cell_type": "code",
   "execution_count": 11,
   "id": "b40df133-47c8-4006-80a8-217e717d95d6",
   "metadata": {},
   "outputs": [
    {
     "data": {
      "text/plain": [
       "0"
      ]
     },
     "execution_count": 11,
     "metadata": {},
     "output_type": "execute_result"
    }
   ],
   "source": [
    "top_k_class = [0, 1]\n",
    "\n",
    "Counter(top_k_class).most_common()[0][0]"
   ]
  },
  {
   "cell_type": "code",
   "execution_count": 12,
   "id": "43e250e8-36db-4f9b-952f-35e4faf793c2",
   "metadata": {},
   "outputs": [
    {
     "data": {
      "text/plain": [
       "1"
      ]
     },
     "execution_count": 12,
     "metadata": {},
     "output_type": "execute_result"
    }
   ],
   "source": [
    "top_k_class = [1, 0]\n",
    "\n",
    "Counter(top_k_class).most_common()[0][0]"
   ]
  },
  {
   "cell_type": "code",
   "execution_count": 16,
   "id": "1a2ccec3-a2db-40b6-bddc-ff2cbe721b5c",
   "metadata": {},
   "outputs": [
    {
     "data": {
      "text/plain": [
       "1"
      ]
     },
     "execution_count": 16,
     "metadata": {},
     "output_type": "execute_result"
    }
   ],
   "source": [
    "top_k_class = [1, 2, 0]\n",
    "\n",
    "Counter(top_k_class).most_common()[0][0]"
   ]
  },
  {
   "cell_type": "code",
   "execution_count": 14,
   "id": "141f5817-2157-454c-82b7-b5024b2f4018",
   "metadata": {},
   "outputs": [
    {
     "data": {
      "text/plain": [
       "2"
      ]
     },
     "execution_count": 14,
     "metadata": {},
     "output_type": "execute_result"
    }
   ],
   "source": [
    "top_k_class = [1, 0, 2, 2]\n",
    "\n",
    "Counter(top_k_class).most_common()[0][0]"
   ]
  },
  {
   "cell_type": "markdown",
   "id": "e50515d5-b4cd-4c56-9a2c-9b0416367859",
   "metadata": {},
   "source": [
    "### Count vectors"
   ]
  },
  {
   "cell_type": "code",
   "execution_count": 19,
   "id": "efea1520-aed1-48b6-a9f5-6ac304162f52",
   "metadata": {},
   "outputs": [
    {
     "name": "stdout",
     "output_type": "stream",
     "text": [
      "[0.   0.75 0.25]\n",
      "[0.   0.75 0.25]\n",
      "[0.   0.75 0.25]\n"
     ]
    }
   ],
   "source": [
    "import numpy as np\n",
    "\n",
    "text_1 = np.array([0., 3., 1.]) \n",
    "text_2 = np.array([0., 3., 1.])\n",
    "\n",
    "text_1 /= np.sum(text_1)\n",
    "text_2 /= np.sum(text_2)\n",
    "\n",
    "print(text_1)\n",
    "print(text_2)\n",
    "\n",
    "added = text_1 + text_2\n",
    "\n",
    "print(added / np.sum(added))"
   ]
  },
  {
   "cell_type": "code",
   "execution_count": null,
   "id": "89f20d55-a460-4de3-ab5d-40322be8ddd1",
   "metadata": {},
   "outputs": [],
   "source": []
  }
 ],
 "metadata": {
  "kernelspec": {
   "display_name": "Python 3 (ipykernel)",
   "language": "python",
   "name": "python3"
  },
  "language_info": {
   "codemirror_mode": {
    "name": "ipython",
    "version": 3
   },
   "file_extension": ".py",
   "mimetype": "text/x-python",
   "name": "python",
   "nbconvert_exporter": "python",
   "pygments_lexer": "ipython3",
   "version": "3.10.6"
  }
 },
 "nbformat": 4,
 "nbformat_minor": 5
}
